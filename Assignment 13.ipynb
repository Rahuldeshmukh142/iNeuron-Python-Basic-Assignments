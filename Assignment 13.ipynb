{
 "cells": [
  {
   "cell_type": "markdown",
   "metadata": {},
   "source": [
    "1. What advantages do Excel spreadsheets have over CSV spreadsheets?\n",
    "\n",
    "Answer - We can perform various operations on data in excel but no in csv.\n",
    "Excel can store more complex data.\n",
    "No distinction between data type in csv\n",
    "\n",
    "2.What do you pass to csv.reader() and csv.writer() to create reader and writer objects?"
   ]
  },
  {
   "cell_type": "code",
   "execution_count": 2,
   "metadata": {},
   "outputs": [],
   "source": [
    "import csv"
   ]
  },
  {
   "cell_type": "markdown",
   "metadata": {},
   "source": [
    "In csv.reader() we pass file and dialect.\n",
    "\n",
    "In csv.writer() we pass fileobj and dialect."
   ]
  },
  {
   "cell_type": "markdown",
   "metadata": {},
   "source": [
    "3. What modes do File objects for reader and writer objects need to be opened in?\n",
    "\n",
    "Answer - for reader object we open file in read mode 'r'\n",
    "and for writer object we open file in write mode 'w'.\n",
    "\n",
    "4. What method takes a list argument and writes it to a CSV file?\n",
    "\n",
    "Answer -use writerow() method for list argument in csv file.\n",
    "\n",
    "5. What do the keyword arguments delimiter and line terminator do?\n",
    "\n",
    "Answer - firstname, lastname, age\n",
    "\n",
    "Rahul, deshmukh, 27\n",
    "\n",
    "Faiz, kewal, 40\n",
    "\n",
    "here ',' is delimiter we can use any character as per our needs.\n",
    "line terminator comes at end of line by default it is newline and can be changed accourding to requirement.\n",
    "\n",
    "6. What function takes a string of JSON data and returns a Python data structure?\n",
    "\n",
    "Answer - dumps() function convert json data into python data structure. \n",
    "\n",
    "7. What function takes a Python data structure and returns a string of JSON data?\n",
    "\n",
    "Answer - loads() function converts python data structure and returns a string of json data."
   ]
  },
  {
   "cell_type": "code",
   "execution_count": null,
   "metadata": {},
   "outputs": [],
   "source": []
  }
 ],
 "metadata": {
  "kernelspec": {
   "display_name": "Python 3",
   "language": "python",
   "name": "python3"
  },
  "language_info": {
   "codemirror_mode": {
    "name": "ipython",
    "version": 3
   },
   "file_extension": ".py",
   "mimetype": "text/x-python",
   "name": "python",
   "nbconvert_exporter": "python",
   "pygments_lexer": "ipython3",
   "version": "3.7.6"
  }
 },
 "nbformat": 4,
 "nbformat_minor": 4
}
