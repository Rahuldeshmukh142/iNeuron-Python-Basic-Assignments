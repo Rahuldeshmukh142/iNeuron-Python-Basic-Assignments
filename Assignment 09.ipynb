{
 "cells": [
  {
   "cell_type": "markdown",
   "metadata": {},
   "source": [
    "1. To what does a relative path refer?\n",
    "\n",
    "relative path shows current working directory path\n",
    "for me it is: Python Basic Assignments\\Assignment_9.ipynb"
   ]
  },
  {
   "cell_type": "code",
   "execution_count": 2,
   "metadata": {},
   "outputs": [
    {
     "data": {
      "text/plain": [
       "'..\\\\..\\\\..\\\\data science\\\\ineuron full stack DS\\\\Assignments\\\\PythonBasicAssignments\\\\Assignment_p.ipynb'"
      ]
     },
     "execution_count": 2,
     "metadata": {},
     "output_type": "execute_result"
    }
   ],
   "source": [
    "import os\n",
    "path = 'C:\\data science\\ineuron full stack DS\\Assignments\\PythonBasicAssignments\\Assignment_p.ipynb'\n",
    "os.path.relpath(path)"
   ]
  },
  {
   "cell_type": "markdown",
   "metadata": {},
   "source": [
    "2. What does an absolute path start with your operating system?¶\n",
    "\n",
    "absolute path = pwd + relative path\n",
    "\n",
    "absolute path always starts with rootdi directory"
   ]
  },
  {
   "cell_type": "code",
   "execution_count": 3,
   "metadata": {},
   "outputs": [
    {
     "data": {
      "text/plain": [
       "'C:\\\\data science\\\\ineuron full stack DS\\\\Assignments\\\\PythonBasicAssignments\\\\Assignment_p.ipynb'"
      ]
     },
     "execution_count": 3,
     "metadata": {},
     "output_type": "execute_result"
    }
   ],
   "source": [
    "os.path.abspath(path)"
   ]
  },
  {
   "cell_type": "markdown",
   "metadata": {},
   "source": [
    "3. What do the functions os.getcwd() and os.chdir() do?\n",
    "\n",
    "Answer - os.chdir() performs change directory\n",
    "         os.getcwd() gives current working directory\n",
    "\n",
    "4. What are the . and .. folders?\n",
    "\n",
    "Answer - these are not real folder but are special names for path\n",
    "    (.) = this directory\n",
    "    (..)= parent directory\n",
    "\n",
    "5. In C:\\bacon\\eggs\\spam.txt, which part is the dir name, and which part is the base name?\n",
    "\n",
    "Answer - C:\\bacon\\eggs --> dir name\n",
    "\n",
    "spam.txt --> base name\n",
    "\n",
    "6. What are the three “mode” arguments that can be passed to the open() function?\n",
    "\n",
    "Answer - Three mode arguments are:\n",
    "    1. 'r' --> open for reading in text mode.\n",
    "    2. 'w' --> open for writing.\n",
    "    3. 'a' --> open for appending.\n",
    "\n",
    "7. What happens if an existing file is opened in write mode?\n",
    "\n",
    "Answer - when an existing file is opened in write mode previous content is erased and file is treated as \n",
    "new empty file.\n",
    "\n",
    "8. How do you tell the difference between read() and readlines()?\n",
    "\n",
    "Answer - read()      --> it iterates over each character.\n",
    "readlines() --> read only single line of the file.\n",
    "\n",
    "9. What data structure does a shelf value resemble?\n",
    "\n",
    "Answer - As it contains key and values it represents dictionary."
   ]
  },
  {
   "cell_type": "code",
   "execution_count": null,
   "metadata": {},
   "outputs": [],
   "source": []
  }
 ],
 "metadata": {
  "kernelspec": {
   "display_name": "Python 3",
   "language": "python",
   "name": "python3"
  },
  "language_info": {
   "codemirror_mode": {
    "name": "ipython",
    "version": 3
   },
   "file_extension": ".py",
   "mimetype": "text/x-python",
   "name": "python",
   "nbconvert_exporter": "python",
   "pygments_lexer": "ipython3",
   "version": "3.7.6"
  }
 },
 "nbformat": 4,
 "nbformat_minor": 4
}
