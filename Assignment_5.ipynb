{
  "nbformat": 4,
  "nbformat_minor": 0,
  "metadata": {
    "colab": {
      "name": "Assignment 5",
      "provenance": []
    },
    "kernelspec": {
      "name": "python3",
      "display_name": "Python 3"
    },
    "language_info": {
      "name": "python"
    }
  },
  "cells": [
    {
      "cell_type": "markdown",
      "metadata": {
        "id": "41mjDkmoLHJi"
      },
      "source": [
        "1. What does an empty dictionary's code look like?"
      ]
    },
    {
      "cell_type": "code",
      "metadata": {
        "id": "H34V7LrRLIla"
      },
      "source": [
        "d = {}"
      ],
      "execution_count": 1,
      "outputs": []
    },
    {
      "cell_type": "code",
      "metadata": {
        "id": "M4wOH7p_LL5b"
      },
      "source": [
        ""
      ],
      "execution_count": null,
      "outputs": []
    },
    {
      "cell_type": "markdown",
      "metadata": {
        "id": "Sx3E4ZsKLNLq"
      },
      "source": [
        "2. What is the value of a dictionary value with the key 'foo' and the value 42?"
      ]
    },
    {
      "cell_type": "code",
      "metadata": {
        "colab": {
          "base_uri": "https://localhost:8080/"
        },
        "id": "UiSzDya3LSR6",
        "outputId": "c141b443-f23f-4abf-fd3b-b5f6e68491a1"
      },
      "source": [
        "d = {'foo':42}\n",
        "d"
      ],
      "execution_count": 2,
      "outputs": [
        {
          "output_type": "execute_result",
          "data": {
            "text/plain": [
              "{'foo': 42}"
            ]
          },
          "metadata": {
            "tags": []
          },
          "execution_count": 2
        }
      ]
    },
    {
      "cell_type": "code",
      "metadata": {
        "colab": {
          "base_uri": "https://localhost:8080/"
        },
        "id": "-px2jOHaLUy5",
        "outputId": "678364aa-be79-42e3-9cec-c3b37d4275e2"
      },
      "source": [
        "d.values()"
      ],
      "execution_count": 3,
      "outputs": [
        {
          "output_type": "execute_result",
          "data": {
            "text/plain": [
              "dict_values([42])"
            ]
          },
          "metadata": {
            "tags": []
          },
          "execution_count": 3
        }
      ]
    },
    {
      "cell_type": "markdown",
      "metadata": {
        "id": "viBf_WAmLbsa"
      },
      "source": [
        "3. What is the most significant distinction between a dictionary and a list?\n",
        "\n",
        "Answer - dictionary has a key value pair as one entity whereas there are individual elements in list"
      ]
    },
    {
      "cell_type": "markdown",
      "metadata": {
        "id": "i0OEuSzULqdy"
      },
      "source": [
        "4. What happens if you try to access spam['foo'] if spam is {'bar': 100}?"
      ]
    },
    {
      "cell_type": "code",
      "metadata": {
        "colab": {
          "base_uri": "https://localhost:8080/",
          "height": 189
        },
        "id": "NzvsFS-WLrr8",
        "outputId": "02e421b0-feac-4202-a764-759da6f41924"
      },
      "source": [
        "spam = {'bar': 100}\n",
        "spam['foo'] "
      ],
      "execution_count": 6,
      "outputs": [
        {
          "output_type": "error",
          "ename": "KeyError",
          "evalue": "ignored",
          "traceback": [
            "\u001b[0;31m---------------------------------------------------------------------------\u001b[0m",
            "\u001b[0;31mKeyError\u001b[0m                                  Traceback (most recent call last)",
            "\u001b[0;32m<ipython-input-6-3d3b0f5c9538>\u001b[0m in \u001b[0;36m<module>\u001b[0;34m()\u001b[0m\n\u001b[1;32m      1\u001b[0m \u001b[0mspam\u001b[0m \u001b[0;34m=\u001b[0m \u001b[0;34m{\u001b[0m\u001b[0;34m'bar'\u001b[0m\u001b[0;34m:\u001b[0m \u001b[0;36m100\u001b[0m\u001b[0;34m}\u001b[0m\u001b[0;34m\u001b[0m\u001b[0;34m\u001b[0m\u001b[0m\n\u001b[0;32m----> 2\u001b[0;31m \u001b[0mspam\u001b[0m\u001b[0;34m[\u001b[0m\u001b[0;34m'foo'\u001b[0m\u001b[0;34m]\u001b[0m\u001b[0;34m\u001b[0m\u001b[0;34m\u001b[0m\u001b[0m\n\u001b[0m",
            "\u001b[0;31mKeyError\u001b[0m: 'foo'"
          ]
        }
      ]
    },
    {
      "cell_type": "code",
      "metadata": {
        "id": "vgzuA_nGLwSr"
      },
      "source": [
        "\n"
      ],
      "execution_count": null,
      "outputs": []
    },
    {
      "cell_type": "markdown",
      "metadata": {
        "id": "5FtLt8g4OfhS"
      },
      "source": [
        "\n",
        "5. If a dictionary is stored in spam, what is the difference between the expressions 'cat' in spam and 'cat' in spam.keys()?\n",
        "\n",
        "Answer - it checks weather 'cat' is present in dictionary as a key.\n",
        "\n",
        "6. If a dictionary is stored in spam, what is the difference between the expressions 'cat' in spam and 'cat' in spam.values()?\n",
        "\n",
        "Answer - it checks weather 'cat' is present in dictionary as a value\n",
        "\n",
        "7. What is a shortcut for the following code?\n",
        "if 'color' not in spam:\n",
        "spam['color'] = 'black'"
      ]
    },
    {
      "cell_type": "code",
      "metadata": {
        "colab": {
          "base_uri": "https://localhost:8080/",
          "height": 35
        },
        "id": "6WyX3dB-Og2A",
        "outputId": "69f983b8-82c0-4dfb-85ab-06ddd38656f3"
      },
      "source": [
        "spam.setdefault('color', 'black')"
      ],
      "execution_count": 7,
      "outputs": [
        {
          "output_type": "execute_result",
          "data": {
            "application/vnd.google.colaboratory.intrinsic+json": {
              "type": "string"
            },
            "text/plain": [
              "'black'"
            ]
          },
          "metadata": {
            "tags": []
          },
          "execution_count": 7
        }
      ]
    },
    {
      "cell_type": "markdown",
      "metadata": {
        "id": "8hrUiDa8O5fY"
      },
      "source": [
        "8. How do you \"pretty print\" dictionary values using which module and function?\n",
        "\n",
        "module = pprint\n",
        "function = pprint.pprint()"
      ]
    }
  ]
}